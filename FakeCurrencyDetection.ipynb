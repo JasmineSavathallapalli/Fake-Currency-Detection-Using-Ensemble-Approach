{
  "cells": [
    {
      "cell_type": "code",
      "execution_count": null,
      "metadata": {
        "colab": {
          "base_uri": "https://localhost:8080/"
        },
        "id": "KYexBdtFqC5p",
        "outputId": "4dc4b2f1-68bd-4945-c6c0-9b149168f96b"
      },
      "outputs": [
        {
          "name": "stdout",
          "output_type": "stream",
          "text": [
            "Drive already mounted at /content/drive; to attempt to forcibly remount, call drive.mount(\"/content/drive\", force_remount=True).\n"
          ]
        }
      ],
      "source": [
        "from google.colab import drive\n",
        "drive.mount('/content/drive')"
      ]
    },
    {
      "cell_type": "code",
      "execution_count": null,
      "metadata": {
        "colab": {
          "background_save": true
        },
        "id": "T3GGmDZJTzps",
        "outputId": "5ee5280e-00b2-4a35-aabc-d4f4a34daf09"
      },
      "outputs": [
        {
          "name": "stdout",
          "output_type": "stream",
          "text": [
            "All images converted to .jpg format.\n"
          ]
        }
      ],
      "source": [
        "import os\n",
        "import cv2\n",
        "\n",
        "# Set your base path\n",
        "base_path = '/content/drive/MyDrive/Currency'\n",
        "\n",
        "# Loop through both 'real' and 'fake' folders\n",
        "for label_folder in ['real', 'fake']:\n",
        "    folder_path = os.path.join(base_path, label_folder)\n",
        "    for file_name in os.listdir(folder_path):\n",
        "        file_path = os.path.join(folder_path, file_name)\n",
        "\n",
        "        # Read the image\n",
        "        img = cv2.imread(file_path)\n",
        "        if img is not None:\n",
        "            # Create new file name with .jpg extension\n",
        "            new_name = os.path.splitext(file_name)[0] + \".jpg\"\n",
        "            new_path = os.path.join(folder_path, new_name)\n",
        "\n",
        "            # Save as .jpg\n",
        "            cv2.imwrite(new_path, img)\n",
        "\n",
        "            # Optionally, delete the old file (not .jpg)\n",
        "            if not file_name.lower().endswith('.jpg'):\n",
        "                os.remove(file_path)\n",
        "\n",
        "print(\"All images converted to .jpg format.\")\n"
      ]
    },
    {
      "cell_type": "code",
      "execution_count": null,
      "metadata": {
        "colab": {
          "background_save": true
        },
        "id": "44ZYWAN6qJRQ",
        "outputId": "fab904b9-798e-411a-c1bb-de65cec05c30"
      },
      "outputs": [
        {
          "name": "stderr",
          "output_type": "stream",
          "text": [
            "Loading real images: 100%|██████████| 1759/1759 [00:50<00:00, 34.76it/s]\n",
            "Loading fake images: 100%|██████████| 2119/2119 [00:51<00:00, 40.78it/s] \n"
          ]
        },
        {
          "name": "stdout",
          "output_type": "stream",
          "text": [
            "Loaded: (3878, 128, 128, 3) (3878,)\n"
          ]
        }
      ],
      "source": [
        "import os\n",
        "import numpy as np\n",
        "import cv2\n",
        "from tqdm import tqdm\n",
        "\n",
        "# Set path to your dataset\n",
        "data_path = '/content/drive/MyDrive/Currency'\n",
        "\n",
        "IMG_SIZE = 128  # Resize all images to 128x128\n",
        "X = []\n",
        "y = []\n",
        "\n",
        "for label, folder in enumerate(['real', 'fake']):\n",
        "    folder_path = os.path.join(data_path, folder)\n",
        "    for img_file in tqdm(os.listdir(folder_path), desc=f'Loading {folder} images'):\n",
        "        img_path = os.path.join(folder_path, img_file)\n",
        "        img = cv2.imread(img_path)\n",
        "        if img is not None:\n",
        "            img = cv2.resize(img, (IMG_SIZE, IMG_SIZE))\n",
        "            X.append(img)\n",
        "            y.append(label)\n",
        "\n",
        "X = np.array(X)\n",
        "y = np.array(y)\n",
        "print(\"Loaded:\", X.shape, y.shape)\n"
      ]
    },
    {
      "cell_type": "code",
      "execution_count": null,
      "metadata": {
        "colab": {
          "background_save": true
        },
        "id": "B2OKaBEPq1HK"
      },
      "outputs": [],
      "source": [
        "from sklearn.model_selection import train_test_split\n",
        "\n",
        "X = X / 255.0  # Normalize pixel values\n",
        "\n",
        "# Split into train and test\n",
        "X_train, X_test, y_train, y_test = train_test_split(X, y, test_size=0.2, random_state=42)\n"
      ]
    },
    {
      "cell_type": "code",
      "execution_count": null,
      "metadata": {
        "colab": {
          "background_save": true
        },
        "id": "pVJrFVvuryQ8"
      },
      "outputs": [],
      "source": [
        "import tensorflow as tf\n",
        "from tensorflow.keras.models import Model\n",
        "from tensorflow.keras.layers import Conv2D, MaxPooling2D, Flatten, Input\n",
        "\n",
        "def build_feature_extractor():\n",
        "    inp = Input(shape=(IMG_SIZE, IMG_SIZE, 3))\n",
        "    x = Conv2D(32, (3,3), activation='relu')(inp)\n",
        "    x = MaxPooling2D((2,2))(x)\n",
        "    x = Conv2D(64, (3,3), activation='relu')(x)\n",
        "    x = MaxPooling2D((2,2))(x)\n",
        "    x = Flatten()(x)\n",
        "    model = Model(inputs=inp, outputs=x)\n",
        "    return model\n",
        "\n",
        "cnn_model = build_feature_extractor()"
      ]
    },
    {
      "cell_type": "code",
      "execution_count": null,
      "metadata": {
        "colab": {
          "background_save": true
        },
        "id": "7r-kGS1xr2zs",
        "outputId": "3a6bdb61-ca35-402f-e282-4b7e4142622b"
      },
      "outputs": [
        {
          "name": "stdout",
          "output_type": "stream",
          "text": [
            "\u001b[1m97/97\u001b[0m \u001b[32m━━━━━━━━━━━━━━━━━━━━\u001b[0m\u001b[37m\u001b[0m \u001b[1m25s\u001b[0m 255ms/step\n",
            "\u001b[1m25/25\u001b[0m \u001b[32m━━━━━━━━━━━━━━━━━━━━\u001b[0m\u001b[37m\u001b[0m \u001b[1m4s\u001b[0m 178ms/step\n",
            "Feature shapes: (3102, 57600) (776, 57600)\n"
          ]
        }
      ],
      "source": [
        "# Extract features using CNN\n",
        "X_train_feat = cnn_model.predict(X_train)\n",
        "X_test_feat = cnn_model.predict(X_test)\n",
        "\n",
        "print(\"Feature shapes:\", X_train_feat.shape, X_test_feat.shape)\n"
      ]
    },
    {
      "cell_type": "code",
      "execution_count": null,
      "metadata": {
        "colab": {
          "background_save": true
        },
        "id": "4l_fUHWWQhLq",
        "outputId": "4b8040b2-7232-4ea5-b11d-7bcf8d2c8419"
      },
      "outputs": [
        {
          "name": "stdout",
          "output_type": "stream",
          "text": [
            " CNN + SVM Accuracy: 0.8685567010309279\n",
            "              precision    recall  f1-score   support\n",
            "\n",
            "           0       0.87      0.85      0.86       365\n",
            "           1       0.87      0.88      0.88       411\n",
            "\n",
            "    accuracy                           0.87       776\n",
            "   macro avg       0.87      0.87      0.87       776\n",
            "weighted avg       0.87      0.87      0.87       776\n",
            "\n"
          ]
        },
        {
          "data": {
            "image/png": "[encoded data removed]",
            "text/plain": [
              "<Figure size 640x480 with 2 Axes>"
            ]
          },
          "metadata": {},
          "output_type": "display_data"
        }
      ],
      "source": [
        "from sklearn.svm import SVC\n",
        "from sklearn.metrics import accuracy_score, classification_report, confusion_matrix\n",
        "import seaborn as sns\n",
        "import matplotlib.pyplot as plt\n",
        "\n",
        "# Train SVM\n",
        "svm = SVC(kernel='linear', probability=True)\n",
        "svm.fit(X_train_feat, y_train)\n",
        "\n",
        "# Predict\n",
        "svm_preds = svm.predict(X_test_feat)\n",
        "\n",
        "# Evaluate\n",
        "print(\" CNN + SVM Accuracy:\", accuracy_score(y_test, svm_preds))\n",
        "print(classification_report(y_test, svm_preds))\n",
        "\n",
        "# Confusion Matrix\n",
        "cm = confusion_matrix(y_test, svm_preds)\n",
        "sns.heatmap(cm, annot=True, fmt=\"d\", cmap=\"Blues\")\n",
        "plt.title(\"SVM Confusion Matrix\")\n",
        "plt.xlabel(\"Predicted\")\n",
        "plt.ylabel(\"Actual\")\n",
        "plt.show()\n"
      ]
    },
    {
      "cell_type": "code",
      "execution_count": null,
      "metadata": {
        "id": "zYXMmdPsQrwN"
      },
      "outputs": [],
      "source": [
        "from xgboost import XGBClassifier\n",
        "\n",
        "# Train XGBoost\n",
        "xgb = XGBClassifier(use_label_encoder=False, eval_metric='logloss')\n",
        "xgb.fit(X_train_feat, y_train)\n",
        "\n",
        "# Predict\n",
        "xgb_preds = xgb.predict(X_test_feat)\n",
        "\n",
        "# Evaluate\n",
        "print(\"🎯 CNN + XGBoost Accuracy:\", accuracy_score(y_test, xgb_preds))\n",
        "print(classification_report(y_test, xgb_preds))\n",
        "\n",
        "# Confusion Matrix\n",
        "cm = confusion_matrix(y_test, xgb_preds)\n",
        "sns.heatmap(cm, annot=True, fmt=\"d\", cmap=\"Greens\")\n",
        "plt.title(\"XGBoost Confusion Matrix\")\n",
        "plt.xlabel(\"Predicted\")\n",
        "plt.ylabel(\"Actual\")\n",
        "plt.show()"
      ]
    },
    {
      "cell_type": "code",
      "execution_count": null,
      "metadata": {
        "id": "kcoN9kuLQ06b"
      },
      "outputs": [],
      "source": [
        "def predict_image(img_path, extractor_model, classifier_model):\n",
        "    img = cv2.imread(img_path)\n",
        "    img = cv2.resize(img, (IMG_SIZE, IMG_SIZE))\n",
        "    img = img / 255.0\n",
        "    img = np.expand_dims(img, axis=0)  # (1, 128, 128, 3)\n",
        "\n",
        "    features = extractor_model.predict(img)  # (1, 57600)\n",
        "    pred = classifier_model.predict(features)\n",
        "\n",
        "    if hasattr(classifier_model, \"predict_proba\"):\n",
        "        prob = classifier_model.predict_proba(features)[0]\n",
        "        confidence = np.max(prob) * 100\n",
        "    else:\n",
        "        confidence = None\n",
        "\n",
        "    result = \"Real\" if pred[0] == 0 else \"Fake\"\n",
        "    return f\"Prediction: {result} (Confidence: {confidence:.2f}%)\" if confidence else f\"Prediction: {result}\"\n",
        "\n",
        "# Test Example\n",
        "print(predict_image('/content/drive/MyDrive/Currency/fake/fake1.jpg', cnn_model, xgb))  # or use svm instead of xgb"
      ]
    }
  ],
  "metadata": {
    "colab": {
      "provenance": []
    },
    "kernelspec": {
      "display_name": "Python 3",
      "name": "python3"
    },
    "language_info": {
      "name": "python"
    }
  },
  "nbformat": 4,
  "nbformat_minor": 0
}